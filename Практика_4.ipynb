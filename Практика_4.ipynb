{
  "nbformat": 4,
  "nbformat_minor": 0,
  "metadata": {
    "kernelspec": {
      "display_name": "Python 3",
      "language": "python",
      "name": "python3"
    },
    "language_info": {
      "codemirror_mode": {
        "name": "ipython",
        "version": 3
      },
      "file_extension": ".py",
      "mimetype": "text/x-python",
      "name": "python",
      "nbconvert_exporter": "python",
      "pygments_lexer": "ipython3",
      "version": "3.7.6"
    },
    "colab": {
      "name": "Практика-4.ipynb",
      "provenance": [],
      "collapsed_sections": [],
      "include_colab_link": true
    }
  },
  "cells": [
    {
      "cell_type": "markdown",
      "metadata": {
        "id": "view-in-github",
        "colab_type": "text"
      },
      "source": [
        "<a href=\"https://colab.research.google.com/github/Gyerzix/test/blob/main/%D0%9F%D1%80%D0%B0%D0%BA%D1%82%D0%B8%D0%BA%D0%B0_4.ipynb\" target=\"_parent\"><img src=\"https://colab.research.google.com/assets/colab-badge.svg\" alt=\"Open In Colab\"/></a>"
      ]
    },
    {
      "cell_type": "code",
      "metadata": {
        "id": "gxs2m9kfS2CP",
        "colab": {
          "base_uri": "https://localhost:8080/",
          "height": 35
        },
        "outputId": "8bc40137-8917-41d6-8d9e-305c179f5204"
      },
      "source": [
        "%load_ext sql\n",
        "%sql sqlite:///base.db"
      ],
      "execution_count": null,
      "outputs": [
        {
          "output_type": "execute_result",
          "data": {
            "application/vnd.google.colaboratory.intrinsic+json": {
              "type": "string"
            },
            "text/plain": [
              "'Connected: @base.db'"
            ]
          },
          "metadata": {},
          "execution_count": 1
        }
      ]
    },
    {
      "cell_type": "markdown",
      "metadata": {
        "id": "B1tvnB48Iqnp"
      },
      "source": [
        "### Написание функций для работы с sqlite с использованием python"
      ]
    },
    {
      "cell_type": "code",
      "metadata": {
        "id": "HhI93YVFS2CS",
        "colab": {
          "base_uri": "https://localhost:8080/"
        },
        "outputId": "0c174ab8-def7-4c81-f294-d7027845ffaa"
      },
      "source": [
        "%%sql\n",
        "Pragma foreign_keys=on;\n",
        "\n",
        "DROP TABLE if exists Invoice_details;\n",
        "DROP TABLE if exists Products;\n",
        "DROP TABLE if exists Invoices;\n",
        "DROP TABLE if exists Customers;\n",
        "\n",
        "CREATE TABLE Customers (\n",
        "          cust_ID integer NOT NULL Primary key, \n",
        "          cust_name varchar, \n",
        "          cust_info varchar\n",
        "          ); \n",
        "\n",
        "CREATE TABLE Invoices (\n",
        "          invoice_ID integer NOT NULL Primary key,\n",
        "          customer_id varchar NOT NULL,\n",
        "          order_sum integer,\n",
        "          invoice_date integer NOT NULL,\n",
        "          FOREIGN KEY (customer_id) REFERENCES Customers(cust_ID));\n",
        "\n",
        "CREATE TABLE Products (\n",
        "          product_id integer NOT NULL Primary key,\n",
        "          product_name varchar NOT NULL, \n",
        "          price integer);\n",
        "\n",
        "CREATE TABLE Invoice_details (\n",
        "          invoice_ID integer NOT NULL, \n",
        "          product_id integer NOT NULL,\n",
        "          qty integer NOT NULL,\n",
        "          primary key (product_id, invoice_id)\n",
        "          FOREIGN KEY (product_id) REFERENCES Products(product_id)\n",
        "          FOREIGN KEY (invoice_ID) REFERENCES Invoices(invoice_ID));"
      ],
      "execution_count": null,
      "outputs": [
        {
          "output_type": "stream",
          "name": "stdout",
          "text": [
            " * sqlite:///base.db\n",
            "Done.\n",
            "Done.\n",
            "Done.\n",
            "Done.\n",
            "Done.\n",
            "Done.\n",
            "Done.\n",
            "Done.\n",
            "Done.\n"
          ]
        },
        {
          "output_type": "execute_result",
          "data": {
            "text/plain": [
              "[]"
            ]
          },
          "metadata": {},
          "execution_count": 2
        }
      ]
    },
    {
      "cell_type": "code",
      "metadata": {
        "id": "iEiBNdrGS2CT"
      },
      "source": [
        "import sqlite3\n",
        "db = sqlite3.connect('base.db')"
      ],
      "execution_count": null,
      "outputs": []
    },
    {
      "cell_type": "code",
      "metadata": {
        "id": "EpvzBZV0S2CU",
        "colab": {
          "base_uri": "https://localhost:8080/"
        },
        "outputId": "c712a1e4-7d6b-4ee6-9c6c-0985493a9e84"
      },
      "source": [
        "type(db)"
      ],
      "execution_count": null,
      "outputs": [
        {
          "output_type": "execute_result",
          "data": {
            "text/plain": [
              "sqlite3.Connection"
            ]
          },
          "metadata": {},
          "execution_count": 4
        }
      ]
    },
    {
      "cell_type": "code",
      "metadata": {
        "id": "BIHatJdyS2CU"
      },
      "source": [
        "cur = db.cursor() # cursor(factory=Cursor) - метод для вызова cursor - возвращает объект типа сursor"
      ],
      "execution_count": null,
      "outputs": []
    },
    {
      "cell_type": "code",
      "metadata": {
        "id": "HCbxIcedS2CV",
        "colab": {
          "base_uri": "https://localhost:8080/"
        },
        "outputId": "8a5fcff5-e464-4643-a233-1d47bbd676e2"
      },
      "source": [
        "cur.execute(\"\"\"SELECT * \n",
        "            FROM Customers\"\"\") # execute(sql[, parameters]) - создание промежуточного объекта типа cursor и вызов метода execute объекта cursor"
      ],
      "execution_count": null,
      "outputs": [
        {
          "output_type": "execute_result",
          "data": {
            "text/plain": [
              "<sqlite3.Cursor at 0x7f3bc6135110>"
            ]
          },
          "metadata": {},
          "execution_count": 22
        }
      ]
    },
    {
      "cell_type": "code",
      "metadata": {
        "id": "jSWvR6SES2CV"
      },
      "source": [
        "a = cur.fetchone() # вывод 1 строки"
      ],
      "execution_count": null,
      "outputs": []
    },
    {
      "cell_type": "code",
      "metadata": {
        "id": "LR8gsvcOS2CW"
      },
      "source": [
        "a"
      ],
      "execution_count": null,
      "outputs": []
    },
    {
      "cell_type": "code",
      "metadata": {
        "id": "Xukgf0htS2CX",
        "colab": {
          "base_uri": "https://localhost:8080/"
        },
        "outputId": "15cc4d68-0f99-429e-dfd9-08fe8951eebc"
      },
      "source": [
        "cur.fetchall() # вывод всего"
      ],
      "execution_count": null,
      "outputs": [
        {
          "output_type": "execute_result",
          "data": {
            "text/plain": [
              "[(1, 'Microsoft', 'computer software'),\n",
              " (2, 'Google', 'internet-related services')]"
            ]
          },
          "metadata": {},
          "execution_count": 23
        }
      ]
    },
    {
      "cell_type": "code",
      "metadata": {
        "colab": {
          "base_uri": "https://localhost:8080/",
          "height": 161
        },
        "id": "DWDaqkFyWS9A",
        "outputId": "d11fdea1-da0a-4f78-ee0f-e262020cd6aa"
      },
      "source": [
        "%sql SELECT * FROM Customers"
      ],
      "execution_count": null,
      "outputs": [
        {
          "output_type": "stream",
          "name": "stdout",
          "text": [
            " * sqlite:///base.db\n",
            "Done.\n"
          ]
        },
        {
          "output_type": "execute_result",
          "data": {
            "text/html": [
              "<table>\n",
              "    <thead>\n",
              "        <tr>\n",
              "            <th>cust_ID</th>\n",
              "            <th>cust_name</th>\n",
              "            <th>cust_info</th>\n",
              "        </tr>\n",
              "    </thead>\n",
              "    <tbody>\n",
              "        <tr>\n",
              "            <td>1</td>\n",
              "            <td>Microsoft</td>\n",
              "            <td>computer software</td>\n",
              "        </tr>\n",
              "        <tr>\n",
              "            <td>2</td>\n",
              "            <td>Google</td>\n",
              "            <td>internet-related services</td>\n",
              "        </tr>\n",
              "        <tr>\n",
              "            <td>3</td>\n",
              "            <td>Microsoft</td>\n",
              "            <td>computer software</td>\n",
              "        </tr>\n",
              "        <tr>\n",
              "            <td>4</td>\n",
              "            <td>Google</td>\n",
              "            <td>internet-related services</td>\n",
              "        </tr>\n",
              "    </tbody>\n",
              "</table>"
            ],
            "text/plain": [
              "[(1, 'Microsoft', 'computer software'),\n",
              " (2, 'Google', 'internet-related services'),\n",
              " (3, 'Microsoft', 'computer software'),\n",
              " (4, 'Google', 'internet-related services')]"
            ]
          },
          "metadata": {},
          "execution_count": 26
        }
      ]
    },
    {
      "cell_type": "markdown",
      "metadata": {
        "id": "V-y3jgYZOxj3"
      },
      "source": [
        "Написать функцию для добавления клиента (имя, инфо):"
      ]
    },
    {
      "cell_type": "code",
      "metadata": {
        "id": "8EfYC8HyS2CX"
      },
      "source": [
        "def insert_customer(name, info, db):\n",
        "    cur = db.cursor()\n",
        "    cur.execute('''\n",
        "    SELECT COALESCE(MAX(cust_ID)+1, 1) FROM Customers''')\n",
        "    ID = cur.fetchone()[0]\n",
        "    cur.execute('''\n",
        "        INSERT INTO Customers(cust_ID, cust_name, cust_info) \n",
        "        VALUES(?,?,?)''', (ID,name,info))\n",
        "    db.commit() # сохранить изменения"
      ],
      "execution_count": null,
      "outputs": []
    },
    {
      "cell_type": "code",
      "metadata": {
        "id": "gDF6QookS2CX"
      },
      "source": [
        "insert_customer('Microsoft', 'computer software', db)\n",
        "insert_customer('Google', 'internet-related services', db)"
      ],
      "execution_count": null,
      "outputs": []
    },
    {
      "cell_type": "code",
      "metadata": {
        "id": "z6rRQCP-S2CY",
        "colab": {
          "base_uri": "https://localhost:8080/",
          "height": 158
        },
        "outputId": "457672cc-4f3a-4047-9b66-0e2cb2165447"
      },
      "source": [
        "%%sql\n",
        "select * from customers;"
      ],
      "execution_count": null,
      "outputs": [
        {
          "output_type": "stream",
          "name": "stdout",
          "text": [
            " * sqlite:///base.db\n",
            "Done.\n"
          ]
        },
        {
          "output_type": "execute_result",
          "data": {
            "text/html": [
              "<table>\n",
              "    <thead>\n",
              "        <tr>\n",
              "            <th>cust_ID</th>\n",
              "            <th>cust_name</th>\n",
              "            <th>cust_info</th>\n",
              "        </tr>\n",
              "    </thead>\n",
              "    <tbody>\n",
              "        <tr>\n",
              "            <td>1</td>\n",
              "            <td>Microsoft</td>\n",
              "            <td>computer software</td>\n",
              "        </tr>\n",
              "        <tr>\n",
              "            <td>2</td>\n",
              "            <td>Google</td>\n",
              "            <td>internet-related services</td>\n",
              "        </tr>\n",
              "        <tr>\n",
              "            <td>3</td>\n",
              "            <td>Microsoft</td>\n",
              "            <td>computer software</td>\n",
              "        </tr>\n",
              "        <tr>\n",
              "            <td>4</td>\n",
              "            <td>Google</td>\n",
              "            <td>internet-related services</td>\n",
              "        </tr>\n",
              "    </tbody>\n",
              "</table>"
            ],
            "text/plain": [
              "[(1, 'Microsoft', 'computer software'),\n",
              " (2, 'Google', 'internet-related services'),\n",
              " (3, 'Microsoft', 'computer software'),\n",
              " (4, 'Google', 'internet-related services')]"
            ]
          },
          "metadata": {},
          "execution_count": 26
        }
      ]
    },
    {
      "cell_type": "markdown",
      "metadata": {
        "id": "ZB1RY2MjOqJX"
      },
      "source": [
        "Написать функцию для добавления продукта (имя, цена):"
      ]
    },
    {
      "cell_type": "code",
      "metadata": {
        "id": "9znI-ytRS2CY"
      },
      "source": [
        "def insert_products(name,price):\n",
        "    cur=db.cursor()\n",
        "    cur.execute('select coalesce(max(product_id)+1,1) from products')\n",
        "    id=cur.fetchone()[0]\n",
        "    cur.execute('insert into products(product_id, product_name,price) values(?,?,?)', (id,name,price))\n",
        "    db.commit()"
      ],
      "execution_count": null,
      "outputs": []
    },
    {
      "cell_type": "code",
      "metadata": {
        "id": "-vi2agFfS2CY"
      },
      "source": [
        "insert_products('Win10', 25000)\n",
        "insert_products('Google glass', 2000)"
      ],
      "execution_count": null,
      "outputs": []
    },
    {
      "cell_type": "code",
      "metadata": {
        "id": "_-K44N-xS2CZ",
        "colab": {
          "base_uri": "https://localhost:8080/",
          "height": 118
        },
        "outputId": "7a38d66d-d7b1-4163-bbd6-78a3c6baa765"
      },
      "source": [
        "%%sql \n",
        "select * from products;"
      ],
      "execution_count": null,
      "outputs": [
        {
          "output_type": "stream",
          "name": "stdout",
          "text": [
            " * sqlite:///base.db\n",
            "Done.\n"
          ]
        },
        {
          "output_type": "execute_result",
          "data": {
            "text/html": [
              "<table>\n",
              "    <thead>\n",
              "        <tr>\n",
              "            <th>product_id</th>\n",
              "            <th>product_name</th>\n",
              "            <th>price</th>\n",
              "        </tr>\n",
              "    </thead>\n",
              "    <tbody>\n",
              "        <tr>\n",
              "            <td>1</td>\n",
              "            <td>Win10</td>\n",
              "            <td>25000</td>\n",
              "        </tr>\n",
              "        <tr>\n",
              "            <td>2</td>\n",
              "            <td>Google glass</td>\n",
              "            <td>2000</td>\n",
              "        </tr>\n",
              "    </tbody>\n",
              "</table>"
            ],
            "text/plain": [
              "[(1, 'Win10', 25000), (2, 'Google glass', 2000)]"
            ]
          },
          "metadata": {},
          "execution_count": 29
        }
      ]
    },
    {
      "cell_type": "markdown",
      "metadata": {
        "id": "PIQfOkchS2CZ"
      },
      "source": [
        "Написать функцию для добавления заказа. \n",
        "\n",
        "Вход: параметр_1 - имя клиента, \n",
        "параметр_2 - список продуктов вида [['a',1],['b',2]]\n",
        "\n",
        "1 шаг - проверка, что такие продукты и клиенты существуют, \n",
        "2 шаг - добавление в таблицы invoices и invoice_details"
      ]
    },
    {
      "cell_type": "code",
      "metadata": {
        "id": "1OOekbv1S2Cb"
      },
      "source": [
        "def check_client(name): # Проверяем, есть ли такой клиент \n",
        "    cur = db.cursor()\n",
        "    cur.execute('''select cust_id from customers where cust_name = ?''', (name,))\n",
        "    try:\n",
        "        cli_id = cur.fetchone()[0]\n",
        "        return cli_id\n",
        "    except TypeError:\n",
        "        print('Такого клиента не существует')\n",
        "        return -1\n",
        "    except:\n",
        "        print('Такого клиента не существует')\n",
        "        return 0"
      ],
      "execution_count": null,
      "outputs": []
    },
    {
      "cell_type": "code",
      "metadata": {
        "id": "qr4pT5NXS2Cc"
      },
      "source": [
        "def check_products(product_list): # Проверяем, есть ли такой продукт\n",
        "    cur = db.cursor()\n",
        "    res = []\n",
        "    for a, qty in product_list:\n",
        "        cur.execute('''select product_id from products where product_name = ? ''', (a, ))\n",
        "        try: \n",
        "            pr_id = cur.fetchone()[0]\n",
        "            res.append([pr_id, qty])\n",
        "        except TypeError:\n",
        "            print('Такой продукт не существует')\n",
        "            return -1 \n",
        "    return res"
      ],
      "execution_count": null,
      "outputs": []
    },
    {
      "cell_type": "code",
      "metadata": {
        "collapsed": true,
        "id": "wZfWCIzqS2Cc"
      },
      "source": [
        "def add_invoice(customer_id, invoice_date='2021-11-24'):\n",
        "    cur = db.cursor()\n",
        "    cur.execute('''select coalesce(max(invoice_id) + 1, 1) from invoices''')\n",
        "    inv_id = cur.fetchone()[0]\n",
        "    cur.execute('''insert into invoices(invoice_id, customer_id, order_sum, invoice_date)\n",
        "                    VALUES(?,?,NULL,?)''', (inv_id, customer_id, invoice_date))\n",
        "    db.commit()\n",
        "    return inv_id"
      ],
      "execution_count": null,
      "outputs": []
    },
    {
      "cell_type": "code",
      "metadata": {
        "id": "rliEGZTWS2Cd"
      },
      "source": [
        "def add_products(product_list, inv_id):\n",
        "    cur = db.cursor()\n",
        "    for name, qty in product_list:\n",
        "        cur.execute('''insert into invoice_details(invoice_id, product_id, qty) \n",
        "                        values (?,?,?)''', (inv_id, name, qty))\n",
        "    db.commit()\n",
        "    return 1"
      ],
      "execution_count": null,
      "outputs": []
    },
    {
      "cell_type": "code",
      "metadata": {
        "collapsed": true,
        "id": "QkxqwIPYS2Cd"
      },
      "source": [
        "def update_invoice(inv_id):\n",
        "    cur = db.cursor()\n",
        "    cur.execute('''\n",
        "    select sum(ii.qty*price)\n",
        "        from invoice_details ii\n",
        "        inner join products p\n",
        "        on ii.product_id = p.product_id \n",
        "        where invoice_id = ?''', (str(inv_id)))\n",
        "    sum_order = cur.fetchone()[0]\n",
        "    cur.execute('''Update invoices set order_sum = ? where invoice_id = ?''', (sum_order, inv_id))\n",
        "    db.commit()"
      ],
      "execution_count": null,
      "outputs": []
    },
    {
      "cell_type": "code",
      "metadata": {
        "id": "IlsjYGIZS2Cd"
      },
      "source": [
        "def add_order(client_name, product_list):\n",
        "    client_id = check_client(client_name)\n",
        "    if client_id==-1:\n",
        "        return -1 \n",
        "    prod_list = check_products(product_list)\n",
        "    if prod_list == -1:\n",
        "        return -2\n",
        "    inv_id = add_invoice(client_id)\n",
        "    add_products(prod_list, inv_id)\n",
        "    update_invoice(inv_id)\n",
        "    db.commit()"
      ],
      "execution_count": null,
      "outputs": []
    },
    {
      "cell_type": "code",
      "metadata": {
        "id": "Uw1AiisWS2Ce"
      },
      "source": [
        "add_order('Microsoft', [['Win10',5]])"
      ],
      "execution_count": null,
      "outputs": []
    },
    {
      "cell_type": "code",
      "metadata": {
        "id": "CrMA7g6AS2Ce",
        "colab": {
          "base_uri": "https://localhost:8080/",
          "height": 96
        },
        "outputId": "8c7378be-dd88-4182-d0c9-4183502c5e5d"
      },
      "source": [
        "%%sql \n",
        "SELECT * \n",
        "from invoices"
      ],
      "execution_count": null,
      "outputs": [
        {
          "output_type": "stream",
          "name": "stdout",
          "text": [
            " * sqlite:///base.db\n",
            "Done.\n"
          ]
        },
        {
          "output_type": "execute_result",
          "data": {
            "text/html": [
              "<table>\n",
              "    <thead>\n",
              "        <tr>\n",
              "            <th>invoice_ID</th>\n",
              "            <th>customer_id</th>\n",
              "            <th>order_sum</th>\n",
              "            <th>invoice_date</th>\n",
              "        </tr>\n",
              "    </thead>\n",
              "    <tbody>\n",
              "        <tr>\n",
              "            <td>1</td>\n",
              "            <td>1</td>\n",
              "            <td>125000</td>\n",
              "            <td>2021-11-24</td>\n",
              "        </tr>\n",
              "    </tbody>\n",
              "</table>"
            ],
            "text/plain": [
              "[(1, '1', 125000, '2021-11-24')]"
            ]
          },
          "metadata": {},
          "execution_count": 37
        }
      ]
    },
    {
      "cell_type": "code",
      "metadata": {
        "id": "2odreikVS2Cf",
        "colab": {
          "base_uri": "https://localhost:8080/",
          "height": 96
        },
        "outputId": "4daaae77-b284-4dee-f3bf-91ad0a13cf73"
      },
      "source": [
        "%%sql\n",
        "select * \n",
        "from invoice_Details"
      ],
      "execution_count": null,
      "outputs": [
        {
          "output_type": "stream",
          "name": "stdout",
          "text": [
            " * sqlite:///base.db\n",
            "Done.\n"
          ]
        },
        {
          "output_type": "execute_result",
          "data": {
            "text/html": [
              "<table>\n",
              "    <thead>\n",
              "        <tr>\n",
              "            <th>invoice_ID</th>\n",
              "            <th>product_id</th>\n",
              "            <th>qty</th>\n",
              "        </tr>\n",
              "    </thead>\n",
              "    <tbody>\n",
              "        <tr>\n",
              "            <td>1</td>\n",
              "            <td>1</td>\n",
              "            <td>5</td>\n",
              "        </tr>\n",
              "    </tbody>\n",
              "</table>"
            ],
            "text/plain": [
              "[(1, 1, 5)]"
            ]
          },
          "metadata": {},
          "execution_count": 38
        }
      ]
    },
    {
      "cell_type": "code",
      "metadata": {
        "id": "ciVkWzwlZ9xz"
      },
      "source": [
        ""
      ],
      "execution_count": null,
      "outputs": []
    }
  ]
}